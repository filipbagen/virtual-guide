{
 "cells": [
  {
   "cell_type": "markdown",
   "metadata": {},
   "source": []
  },
  {
   "cell_type": "code",
   "execution_count": null,
   "metadata": {},
   "outputs": [],
   "source": [
    "from transformers import AutoModel, AutoTokenizer, BartForConditionalGeneration, pipeline\n",
    "import torch\n",
    "\n",
    "answerer_model = \"KBLab/bert-base-swedish-cased-squad-experimental\" # Swedish BERT model\n",
    "mask_model = \"KBLab/bart-base-swedish-cased\" #Swedish BART model\n",
    "\n",
    "# Use pipeline to produce an answerer from BERT\n",
    "answerer = pipeline(\"question-answering\", model=answerer_model, tokenizer=answerer_model)"
   ]
  },
  {
   "cell_type": "code",
   "execution_count": 29,
   "metadata": {},
   "outputs": [],
   "source": [
    "doc = \"Utställningen pågår till och med 31 december 2019.\"\n",
    "q = \"Hur länge pågår utställningen?\"\n",
    "\n",
    "answer_output = answerer({ \n",
    "    'question': q,\n",
    "    'context': doc\n",
    "})\n",
    "answer = answer_output['answer'] "
   ]
  },
  {
   "cell_type": "code",
   "execution_count": 32,
   "metadata": {},
   "outputs": [
    {
     "data": {
      "text/plain": [
       "'</s><s> Svaret på din fråga är31 december 2019 är svaret på din...</s><pad>'"
      ]
     },
     "execution_count": 32,
     "metadata": {},
     "output_type": "execute_result"
    }
   ],
   "source": [
    "model = BartForConditionalGeneration.from_pretrained(mask_model)\n",
    "tok = AutoTokenizer.from_pretrained(mask_model)\n",
    "model.eval()\n",
    "\n",
    "input_ids = tok.encode(\n",
    "    \"Jag har ätit en utsökt <mask> på restaurang vid <mask> .\", return_tensors=\"pt\"\n",
    ")\n",
    "# Beam search\n",
    "output_ids = model.generate(\n",
    "    input_ids,\n",
    "    min_length=15,\n",
    "    max_length=25,\n",
    "    no_repeat_ngram_size=3,\n",
    "    num_beams=8,\n",
    "    early_stopping=True,\n",
    "    do_sample=True,\n",
    "    num_return_sequences=6\n",
    ")\n",
    "tok.decode(output_ids[0])"
   ]
  }
 ],
 "metadata": {
  "kernelspec": {
   "display_name": "Python 3",
   "language": "python",
   "name": "python3"
  },
  "language_info": {
   "codemirror_mode": {
    "name": "ipython",
    "version": 3
   },
   "file_extension": ".py",
   "mimetype": "text/x-python",
   "name": "python",
   "nbconvert_exporter": "python",
   "pygments_lexer": "ipython3",
   "version": "3.10.11"
  },
  "orig_nbformat": 4
 },
 "nbformat": 4,
 "nbformat_minor": 2
}
