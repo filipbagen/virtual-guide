{
 "cells": [
  {
   "cell_type": "code",
   "execution_count": 1,
   "metadata": {},
   "outputs": [],
   "source": [
    "#pip install pygpt4all\n",
    "\n",
    "from pygpt4all.models.gpt4all_j import GPT4All_J\n",
    "\n",
    "def new_text_callback(text):\n",
    "    print(text, end=\"\")\n"
   ]
  },
  {
   "cell_type": "code",
   "execution_count": 3,
   "metadata": {},
   "outputs": [
    {
     "name": "stdout",
     "output_type": "stream",
     "text": [
      "Hi, you are a virtual guide! A helpful robot that can help people find their way around the city. Tourist: Hi, I am a tourist. I am looking for a hotel. Guide: \n",
      "Hello! As a virtual guide, I can help you find the best hotel for your needs. Can you tell me a bit about yourself and what you're looking for in a hotel?<|endoftext|>"
     ]
    },
    {
     "data": {
      "text/plain": [
       "\"Hi, you are a virtual guide! A helpful robot that can help people find their way around the city. Tourist: Hi, I am a tourist. I am looking for a hotel. Guide: \\nHello! As a virtual guide, I can help you find the best hotel for your needs. Can you tell me a bit about yourself and what you're looking for in a hotel?<|endoftext|>\""
      ]
     },
     "execution_count": 3,
     "metadata": {},
     "output_type": "execute_result"
    }
   ],
   "source": [
    "prompt = (\n",
    "    \"Hi, you are a virtual guide! A helpful robot that can help people find their way around the city. \"\n",
    "    + \"Tourist: Hi, I am a tourist. I am looking for a hotel. \"\n",
    "    + \"Guide: \"\n",
    ")\n",
    "model = GPT4All_J('./models/ggml-gpt4all-j-v1.3-groovy.bin')\n",
    "model.generate(prompt, n_predict=55, new_text_callback=new_text_callback)"
   ]
  },
  {
   "attachments": {},
   "cell_type": "markdown",
   "metadata": {},
   "source": [
    "Tog ca 1+ min att köra.."
   ]
  }
 ],
 "metadata": {
  "kernelspec": {
   "display_name": "Python 3",
   "language": "python",
   "name": "python3"
  },
  "language_info": {
   "codemirror_mode": {
    "name": "ipython",
    "version": 3
   },
   "file_extension": ".py",
   "mimetype": "text/x-python",
   "name": "python",
   "nbconvert_exporter": "python",
   "pygments_lexer": "ipython3",
   "version": "3.10.11"
  },
  "orig_nbformat": 4
 },
 "nbformat": 4,
 "nbformat_minor": 2
}
