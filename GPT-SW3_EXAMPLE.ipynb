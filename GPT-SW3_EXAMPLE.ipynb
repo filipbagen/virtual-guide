{
 "cells": [
  {
   "attachments": {},
   "cell_type": "markdown",
   "metadata": {},
   "source": [
    "GPT-SW3\n",
    "https://nlu-lab.notion.site/Prompthandboken-7cd943cc230642f2b8243807731e81ae\n",
    "  \n",
    "Fick inbjudan genom att anmäla mig via denna länk: https://docs.google.com/forms/d/e/1FAIpQLSebZv__Me6YUO_kFetDZevwXgSsYSVnXWzG5H68MIwN4XmdtQ/viewform\n",
    "\n",
    "Borde inte ta långt innan man får mejl, men hör av om det tar för lång tid."
   ]
  },
  {
   "cell_type": "code",
   "execution_count": 2,
   "metadata": {},
   "outputs": [
    {
     "name": "stdout",
     "output_type": "stream",
     "text": [
      "Token is valid.\n",
      "Your token has been saved in your configured git credential helpers (manager).\n",
      "Your token has been saved to C:\\Users\\Dasmit\\.cache\\huggingface\\token\n",
      "Login successful\n"
     ]
    }
   ],
   "source": [
    "from huggingface_hub import login  \n",
    "login()"
   ]
  },
  {
   "cell_type": "code",
   "execution_count": 1,
   "metadata": {},
   "outputs": [],
   "source": [
    "import torch\n",
    "from transformers import pipeline, AutoTokenizer, AutoModelForCausalLM\n",
    "\n",
    "# Initialize Variables\n",
    "model_name = \"AI-Sweden-Models/gpt-sw3-1.3b\"\n",
    "device = \"cuda:0\" if torch.cuda.is_available() else \"cpu\" #in case i run this on my laptop or pc"
   ]
  },
  {
   "cell_type": "code",
   "execution_count": null,
   "metadata": {},
   "outputs": [],
   "source": [
    "\n",
    "# Initialize Tokenizer & Model\n",
    "tokenizer = AutoTokenizer.from_pretrained(model_name, use_auth_token=True)\n",
    "model = AutoModelForCausalLM.from_pretrained(model_name)\n",
    "model.eval()\n",
    "model.to(device)\n",
    "\n",
    "#input_ids = tokenizer(prompt, return_tensors=\"pt\")[\"input_ids\"].to(device)\n",
    "\n",
    "# generated_token_ids = model.generate(\n",
    "#     inputs = input_ids,\n",
    "#     max_new_tokens = 100,\n",
    "#     do_sample = True,\n",
    "#     temperature = 0.6,\n",
    "#     top_p = 1,\n",
    "# )[0]\n",
    "\n",
    "#generated_text = tokenizer.decode(generated_token_ids)    \n",
    "\n",
    "        \n"
   ]
  },
  {
   "cell_type": "code",
   "execution_count": 3,
   "metadata": {
    "tags": []
   },
   "outputs": [
    {
     "name": "stdout",
     "output_type": "stream",
     "text": [
      "Följande är en konversation mellan en besökare på museet och en guide. Guiden arbetar på museet. Guiden är hjälpsam, informativ och mycket vänlig.Museet innehåller tre utställningar, den första utställningen heter 'Vi kommer alla att dö' av Hermann GustafssonBesökaren: Hej, jag är här för att se utställningen 'Vi kommer alla att dö', och jag har en fråga!Guide: Hej, vad kul! Vad vill du veta om utställningen?Besökaren: Vet du vem som skapade utställningen?Guide: Nej, det är inte min uppgift att ta reda på det.Besökaren: Men du vet att det är Hermann Gustafsson som har gjort den?Guide: Ja, han är konstnärlig ledare.Besökaren: Är han inte död?Guide: Jo, men vi visar ändå.Besökaren: Varför visar vi den då?Guide: För att den är konstnärlig.Besökaren: Så du tycker inte att det är konstigt att han har skapat den?Guide: Nej, det tycker jag inte.Besökaren: Men om jag skulle fråga dig om du visste vem som skapade 'Vi kommer alla att dö' skulle du då inte berätta det?Guide: Nej, det skulle jag inte.Besökaren: Så du tycker inte att det är konstigt att han har skapat den?Guide: Nej.Besökaren: Så du tycker inte att det är konstigt att han har skapat den?Guide: Nej.\n",
      "\n",
      "Guiden:\n"
     ]
    }
   ],
   "source": [
    "def generate_text(prompt):\n",
    "    input_ids = tokenizer.encode(prompt, return_tensors=\"pt\").to(device)\n",
    "\n",
    "    output = model.generate(\n",
    "        inputs = input_ids,\n",
    "        max_new_tokens = 200,\n",
    "        do_sample=True,\n",
    "        top_p=1, temperature=0.6\n",
    "        )\n",
    "    return tokenizer.decode(output[0])\n",
    "\n",
    "prompt = \"Följande är en konversation mellan en besökare på museet och en guide. Guiden arbetar på museet. Guiden är hjälpsam, informativ och mycket vänlig.\" \\\n",
    "            \"Museet innehåller tre utställningar, den första utställningen heter 'Hitta nemo igen' av Hermann Gustafsson\"\\\n",
    "            \"Besökare: Hej, jag är här för att se utställningen 'Hitta nemo igen', och jag har en fråga!\" \\\n",
    "            \"Guide: Hej, vad kul! Vad vill du veta om utställningen?\" \\\n",
    "            \"Besökare: Vet du vem som skapade utställningen?\" \\\n",
    "            \"Guide\" \n",
    "print(generate_text(prompt))         "
   ]
  }
 ],
 "metadata": {
  "kernelspec": {
   "display_name": "Python 3",
   "language": "python",
   "name": "python3"
  },
  "language_info": {
   "codemirror_mode": {
    "name": "ipython",
    "version": 3
   },
   "file_extension": ".py",
   "mimetype": "text/x-python",
   "name": "python",
   "nbconvert_exporter": "python",
   "pygments_lexer": "ipython3",
   "version": "3.10.7"
  },
  "orig_nbformat": 4,
  "vscode": {
   "interpreter": {
    "hash": "369f2c481f4da34e4445cda3fffd2e751bd1c4d706f27375911949ba6bb62e1c"
   }
  }
 },
 "nbformat": 4,
 "nbformat_minor": 2
}
