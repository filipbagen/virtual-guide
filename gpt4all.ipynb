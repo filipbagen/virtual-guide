{
 "cells": [
  {
   "cell_type": "code",
   "execution_count": 1,
   "metadata": {},
   "outputs": [
    {
     "name": "stdout",
     "output_type": "stream",
     "text": [
      "Once upon a time, \n",
      "there was a young woman named Sarah. She lived in a small village in the countryside of Maine. Sarah was a kind-hearted person who always cared for others. She was a hard worker who spent most of her days tending to her family's farm. Despite her busy"
     ]
    },
    {
     "data": {
      "text/plain": [
       "\"Once upon a time, \\nthere was a young woman named Sarah. She lived in a small village in the countryside of Maine. Sarah was a kind-hearted person who always cared for others. She was a hard worker who spent most of her days tending to her family's farm. Despite her busy\""
      ]
     },
     "execution_count": 1,
     "metadata": {},
     "output_type": "execute_result"
    }
   ],
   "source": [
    "#pip install pygpt4all\n",
    "\n",
    "from pygpt4all.models.gpt4all_j import GPT4All_J\n",
    "\n",
    "def new_text_callback(text):\n",
    "    print(text, end=\"\")\n",
    "\n",
    "\n"
   ]
  },
  {
   "cell_type": "code",
   "execution_count": null,
   "metadata": {},
   "outputs": [],
   "source": [
    "prompt = (\n",
    "    \"Once upon a time, \"\n",
    ")\n",
    "model = GPT4All_J('./models/ggml-gpt4all-j-v1.3-groovy.bin')\n",
    "model.generate(prompt, n_predict=55, new_text_callback=new_text_callback)"
   ]
  }
 ],
 "metadata": {
  "kernelspec": {
   "display_name": "Python 3",
   "language": "python",
   "name": "python3"
  },
  "language_info": {
   "codemirror_mode": {
    "name": "ipython",
    "version": 3
   },
   "file_extension": ".py",
   "mimetype": "text/x-python",
   "name": "python",
   "nbconvert_exporter": "python",
   "pygments_lexer": "ipython3",
   "version": "3.10.11"
  },
  "orig_nbformat": 4
 },
 "nbformat": 4,
 "nbformat_minor": 2
}
