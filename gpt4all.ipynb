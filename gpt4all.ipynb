{
 "cells": [
  {
   "cell_type": "code",
   "execution_count": null,
   "metadata": {},
   "outputs": [],
   "source": [
    "#pip install pygpt4all\n",
    "\n",
    "from pygpt4all.models.gpt4all_j import GPT4All_J\n",
    "\n",
    "def new_text_callback(text):\n",
    "    print(text, end=\"\")\n"
   ]
  },
  {
   "cell_type": "code",
   "execution_count": 3,
   "metadata": {},
   "outputs": [
    {
     "name": "stdout",
     "output_type": "stream",
     "text": [
      "Can I run a large language model on my laptop?\n",
      "Yes, it is possible to run a large language model on your laptop. However, the processing power required to train and run a large model like GPT-2 may put a strain on your system resources. You may need to upgrade your laptop's hardware, such as"
     ]
    },
    {
     "data": {
      "text/plain": [
       "\"Can I run a large language model on my laptop?\\nYes, it is possible to run a large language model on your laptop. However, the processing power required to train and run a large model like GPT-2 may put a strain on your system resources. You may need to upgrade your laptop's hardware, such as\""
      ]
     },
     "execution_count": 3,
     "metadata": {},
     "output_type": "execute_result"
    }
   ],
   "source": [
    "prompt = (\n",
    "    \"Can I run a large language model on my laptop?\"\n",
    ")\n",
    "model = GPT4All_J('./models/ggml-gpt4all-j-v1.3-groovy.bin')\n",
    "model.generate(prompt, n_predict=55, new_text_callback=new_text_callback)"
   ]
  }
 ],
 "metadata": {
  "kernelspec": {
   "display_name": "Python 3",
   "language": "python",
   "name": "python3"
  },
  "language_info": {
   "codemirror_mode": {
    "name": "ipython",
    "version": 3
   },
   "file_extension": ".py",
   "mimetype": "text/x-python",
   "name": "python",
   "nbconvert_exporter": "python",
   "pygments_lexer": "ipython3",
   "version": "3.10.11"
  },
  "orig_nbformat": 4
 },
 "nbformat": 4,
 "nbformat_minor": 2
}
