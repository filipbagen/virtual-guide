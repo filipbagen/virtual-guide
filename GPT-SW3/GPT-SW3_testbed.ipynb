{
 "cells": [
  {
   "attachments": {},
   "cell_type": "markdown",
   "metadata": {},
   "source": [
    "**RESEARCH: Fine tuning**"
   ]
  },
  {
   "cell_type": "code",
   "execution_count": null,
   "metadata": {},
   "outputs": [],
   "source": [
    "from huggingface_hub import login  \n",
    "login()\n"
   ]
  },
  {
   "cell_type": "code",
   "execution_count": 4,
   "metadata": {},
   "outputs": [],
   "source": [
    "import torch\n",
    "from transformers import pipeline, GPTSw3Tokenizer , AutoModelForCausalLM\n",
    "\n",
    "# Model name: AI-Sweden-Models/gpt-sw3-126m-instruct, AI-Sweden-Models/gpt-sw3-1.3b-instruct\n",
    "model_name = \"AI-Sweden-Models/gpt-sw3-356m-instruct\"\n",
    "device = \"cuda:0\" if torch.cuda.is_available() else \"cpu\" #in case i run this on my laptop or pc"
   ]
  },
  {
   "cell_type": "code",
   "execution_count": null,
   "metadata": {},
   "outputs": [],
   "source": [
    "tokenizer = GPTSw3Tokenizer.from_pretrained(model_name, use_auth_token=True)\n",
    "model = AutoModelForCausalLM.from_pretrained(model_name)\n",
    "\n",
    "model.eval()\n",
    "model.to(device)"
   ]
  },
  {
   "cell_type": "code",
   "execution_count": 18,
   "metadata": {},
   "outputs": [
    {
     "name": "stdout",
     "output_type": "stream",
     "text": [
      " <|endoftext|><s> Berätta när filmen Hitta Nemo släpptes och vem som är regissören med följande uppgifter:\n",
      "\n",
      "Film: Hitta Nemo\n",
      "Regissör: Andrew Stanton\n",
      "Släppt: 2003<s> User: När släpptes filmen Hitta Nemo?<s> Bot: Filmen Hitta Nemo släpptes 2003. Filmen regisserades av Andrew Stanton.<s><|endoftext|>\n"
     ]
    }
   ],
   "source": [
    "prompt = \"\"\"\n",
    "<|endoftext|>\n",
    "<s>\n",
    "Berätta när filmen Hitta Nemo släpptes och vem som är regissören med följande uppgifter:\n",
    "\n",
    "Film: Hitta Nemo\n",
    "Regissör: Andrew Stanton\n",
    "Släppt: 2003\n",
    "<s>\n",
    "User: När släpptes filmen Hitta Nemo?\n",
    "<s>\n",
    "Bot: \n",
    "\"\"\".strip()\n",
    "\n",
    "input_ids = tokenizer(prompt, return_tensors=\"pt\")[\"input_ids\"].to(device)\n",
    "\n",
    "generated_token_ids = model.generate(\n",
    "    inputs=input_ids,\n",
    "    max_new_tokens=256,\n",
    "    do_sample=True,\n",
    "    temperature=0.3,\n",
    "    top_p=1,\n",
    ")[0]\n",
    "\n",
    "generated_text = tokenizer.decode(generated_token_ids)   \n",
    "\n",
    "print(generated_text)"
   ]
  }
 ],
 "metadata": {
  "kernelspec": {
   "display_name": "Python 3",
   "language": "python",
   "name": "python3"
  },
  "language_info": {
   "codemirror_mode": {
    "name": "ipython",
    "version": 3
   },
   "file_extension": ".py",
   "mimetype": "text/x-python",
   "name": "python",
   "nbconvert_exporter": "python",
   "pygments_lexer": "ipython3",
   "version": "3.10.11"
  },
  "orig_nbformat": 4,
  "vscode": {
   "interpreter": {
    "hash": "369f2c481f4da34e4445cda3fffd2e751bd1c4d706f27375911949ba6bb62e1c"
   }
  }
 },
 "nbformat": 4,
 "nbformat_minor": 2
}
